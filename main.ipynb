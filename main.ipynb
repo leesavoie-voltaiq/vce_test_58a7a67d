{
 "cells": [
  {
   "cell_type": "code",
   "execution_count": null,
   "id": "904dc0d1",
   "metadata": {},
   "outputs": [],
   "source": [
    "import voltaiq_studio as vs"
   ]
  }
 ],
 "metadata": {
  "kernelspec": {
   "display_name": "Python 3 (ipykernel)",
   "language": "python",
   "name": "python3"
  }
 },
 "nbformat": 4,
 "nbformat_minor": 5
}
